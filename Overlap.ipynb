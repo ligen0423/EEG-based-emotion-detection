{
 "cells": [
  {
   "cell_type": "code",
   "execution_count": null,
   "metadata": {},
   "outputs": [],
   "source": [
    "import pandas as pd\n",
    "import numpy as np\n",
    "import matplotlib.pyplot as plt\n",
    "import seaborn as sns\n",
    "import pywt"
   ]
  },
  {
   "cell_type": "code",
   "execution_count": null,
   "metadata": {},
   "outputs": [],
   "source": [
    "df = pd.read_csv('EEG_data.csv')\n",
    "df.head()"
   ]
  },
  {
   "cell_type": "code",
   "execution_count": null,
   "metadata": {},
   "outputs": [],
   "source": [
    "X = []\n",
    "Y = []\n",
    "for i in range(10):\n",
    "    h= df[df['SubjectID'] == i]\n",
    "    for j in range(10):\n",
    "        x = h[h['VideoID'] == j]['Raw'][:100].values\n",
    "        X.append(x.reshape(1,100))\n",
    "        y = h[h['VideoID'] == j]['user-definedlabeln'].iloc[0]\n",
    "        Y.append(y)"
   ]
  },
  {
   "cell_type": "code",
   "execution_count": null,
   "metadata": {},
   "outputs": [],
   "source": [
    "X = np.array(X).reshape(100,100)\n",
    "Y = np.array(Y).reshape(100,1)\n",
    "Y.shape"
   ]
  },
  {
   "cell_type": "code",
   "execution_count": null,
   "metadata": {},
   "outputs": [],
   "source": [
    "C0 = []\n",
    "C1 = []\n",
    "for i in range(Y.shape[0]):\n",
    "    if Y[i] == 0:\n",
    "        C0.append(X[i])\n",
    "    else:\n",
    "        C1.append(X[i])\n",
    "C0,C1 = np.array(C0),np.array(C1)"
   ]
  },
  {
   "cell_type": "code",
   "execution_count": null,
   "metadata": {},
   "outputs": [],
   "source": [
    "C0.shape,C1.shape"
   ]
  },
  {
   "cell_type": "code",
   "execution_count": null,
   "metadata": {},
   "outputs": [],
   "source": [
    "def plot_signal_decomp(data,w):\n",
    "    mode = pywt.Modes.smooth\n",
    "    w = pywt.Wavelet(w)\n",
    "    a = data\n",
    "    ca = []\n",
    "    cd = []\n",
    "    for i in range(1):\n",
    "        (a, d) = pywt.dwt(a, w, mode)\n",
    "        ca.append(a)\n",
    "        cd.append(d)\n",
    " \n",
    "    rec_a = []\n",
    "    rec_d = []\n",
    " \n",
    "    for i, coeff in enumerate(ca):\n",
    "        coeff_list = [coeff, None] + [None] * i\n",
    "        rec_a.append(pywt.waverec(coeff_list, w))\n",
    " \n",
    "    for i, coeff in enumerate(cd):\n",
    "        coeff_list = [None, coeff] + [None] * i\n",
    "        if i ==3:\n",
    "            print(len(coeff))\n",
    "            print(len(coeff_list))\n",
    "        rec_d.append(pywt.waverec(coeff_list, w))\n",
    "    return rec_a,rec_d"
   ]
  },
  {
   "cell_type": "code",
   "execution_count": null,
   "metadata": {},
   "outputs": [],
   "source": [
    "rec_a_c0,rec_d_c0 = plot_signal_decomp(C0,'sym5')\n",
    "rec_a_c1,rec_d_c1 = plot_signal_decomp(C1,'sym5')"
   ]
  },
  {
   "cell_type": "code",
   "execution_count": null,
   "metadata": {},
   "outputs": [],
   "source": [
    "rec_a,rec_d = plot_signal_decomp(X,'sym5')"
   ]
  },
  {
   "cell_type": "code",
   "execution_count": null,
   "metadata": {},
   "outputs": [],
   "source": [
    "rec_d[9].shape"
   ]
  },
  {
   "cell_type": "code",
   "execution_count": null,
   "metadata": {},
   "outputs": [],
   "source": [
    "rec_d = np.array(rec_d)\n",
    "rec_d.shape"
   ]
  },
  {
   "cell_type": "code",
   "execution_count": null,
   "metadata": {},
   "outputs": [],
   "source": [
    "plt.figure(figsize=(9,3))\n",
    "plt.plot(rec_d[0][2],'k')"
   ]
  },
  {
   "cell_type": "code",
   "execution_count": null,
   "metadata": {},
   "outputs": [],
   "source": [
    "train = np.array(rec_d[9]).reshape(100,1032)"
   ]
  },
  {
   "cell_type": "code",
   "execution_count": null,
   "metadata": {},
   "outputs": [],
   "source": [
    "train.shape"
   ]
  },
  {
   "cell_type": "code",
   "execution_count": null,
   "metadata": {},
   "outputs": [],
   "source": [
    "data = pd.DataFrame(train)"
   ]
  },
  {
   "cell_type": "code",
   "execution_count": null,
   "metadata": {},
   "outputs": [],
   "source": [
    "data['Label'] = Y\n",
    "data.head()\n",
    "data.to_csv('Dataset2nd.csv')"
   ]
  },
  {
   "cell_type": "code",
   "execution_count": null,
   "metadata": {},
   "outputs": [],
   "source": [
    "plt.figure(figsize=(9,6))\n",
    "plt.subplots_adjust(wspace =0, hspace =0.3)\n",
    "plt.subplot(2,1,1)\n",
    "\n",
    "plt.plot(rec_a_c0[0][0],color = 'k',label = 'Signal 1')\n",
    "plt.xlabel('Time(s)',fontsize = 15)\n",
    "plt.ylabel('Value',fontsize = 15)\n",
    "plt.legend(loc = 'upper right',prop = {'size':15})\n",
    "\n",
    "plt.subplot(2,1,2)\n",
    "plt.plot(rec_a_c0[0][1],color = 'k',label = 'Signal 2')\n",
    "plt.legend(loc = 'upper right',prop = {'size':15})\n",
    "plt.xlabel('Time(s)',fontsize = 15)\n",
    "plt.ylabel('Value',fontsize = 15)\n",
    "plt.savefig('p2.eps',dpi=600,format='eps')\n",
    "plt.show()"
   ]
  },
  {
   "cell_type": "code",
   "execution_count": null,
   "metadata": {},
   "outputs": [],
   "source": [
    "c0_mean = rec_d_c0[0].mean(axis = 0)\n",
    "c1_mean = rec_d_c1[0].mean(axis = 0)"
   ]
  },
  {
   "cell_type": "code",
   "execution_count": null,
   "metadata": {},
   "outputs": [],
   "source": [
    "xa = np.arange(100)"
   ]
  },
  {
   "cell_type": "code",
   "execution_count": null,
   "metadata": {},
   "outputs": [],
   "source": [
    "overlap1 = []\n",
    "for i in range(c0_mean.shape[0]):\n",
    "    o = np.dot(c0_mean[:i],c1_mean[:i])\n",
    "    overlap1.append(o)\n",
    "overlap1 = np.array(overlap1)"
   ]
  },
  {
   "cell_type": "code",
   "execution_count": null,
   "metadata": {},
   "outputs": [],
   "source": [
    "overlap1"
   ]
  },
  {
   "cell_type": "code",
   "execution_count": null,
   "metadata": {},
   "outputs": [],
   "source": [
    "plt.figure(figsize = (9,6))\n",
    "plt.plot(overlap1,c = 'k')\n",
    "\n",
    "ax=plt.gca()\n",
    "plt.axhline(y=0,c=\"k\")\n",
    "plt.xlabel('time(s)',fontsize = 15)\n",
    "plt.ylabel('Dot product',fontsize = 15)\n",
    "#ax.spines['bottom'].set_position(('data',0))\n",
    "ax.spines['right'].set_color('none')\n",
    "ax.spines['top'].set_color('none')\n",
    "plt.savefig('p3.eps',dpi=600,format='eps')\n",
    "plt.show()"
   ]
  },
  {
   "cell_type": "code",
   "execution_count": null,
   "metadata": {},
   "outputs": [],
   "source": [
    "data.shape"
   ]
  },
  {
   "cell_type": "code",
   "execution_count": null,
   "metadata": {},
   "outputs": [],
   "source": [
    "data.to_csv('Dataset_df.csv')"
   ]
  }
 ],
 "metadata": {
  "kernelspec": {
   "display_name": "Python 3",
   "language": "python",
   "name": "python3"
  },
  "language_info": {
   "codemirror_mode": {
    "name": "ipython",
    "version": 3
   },
   "file_extension": ".py",
   "mimetype": "text/x-python",
   "name": "python",
   "nbconvert_exporter": "python",
   "pygments_lexer": "ipython3",
   "version": "3.7.3"
  }
 },
 "nbformat": 4,
 "nbformat_minor": 2
}
